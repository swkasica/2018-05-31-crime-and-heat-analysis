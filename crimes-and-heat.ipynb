{
 "cells": [
  {
   "cell_type": "code",
   "execution_count": 2,
   "metadata": {},
   "outputs": [
    {
     "name": "stdout",
     "output_type": "stream",
     "text": [
      "Collecting agate\n",
      "  Using cached https://files.pythonhosted.org/packages/92/77/ef675f16486884ff7f77f3cb87aafa3429c6bb869d4d73ee23bf4675e384/agate-1.6.1-py2.py3-none-any.whl\n",
      "Collecting python-slugify>=1.2.1 (from agate)\n",
      "Collecting isodate>=0.5.4 (from agate)\n",
      "  Using cached https://files.pythonhosted.org/packages/9b/9f/b36f7774ff5ea8e428fdcfc4bb332c39ee5b9362ddd3d40d9516a55221b2/isodate-0.6.0-py2.py3-none-any.whl\n",
      "Collecting pytimeparse>=1.1.5 (from agate)\n",
      "  Using cached https://files.pythonhosted.org/packages/1b/b4/afd75551a3b910abd1d922dbd45e49e5deeb4d47dc50209ce489ba9844dd/pytimeparse-1.1.8-py2.py3-none-any.whl\n",
      "Collecting leather>=0.3.2 (from agate)\n",
      "  Using cached https://files.pythonhosted.org/packages/45/f4/692a53df6708caca1c6d088c6d9003940f164f98bd9df2bdc86233641e9c/leather-0.3.3-py3-none-any.whl\n",
      "Requirement already satisfied: six>=1.9.0 in /opt/conda/lib/python3.7/site-packages (from agate) (1.12.0)\n",
      "Collecting Babel>=2.0 (from agate)\n",
      "  Using cached https://files.pythonhosted.org/packages/2c/60/f2af68eb046c5de5b1fe6dd4743bf42c074f7141fe7b2737d3061533b093/Babel-2.7.0-py2.py3-none-any.whl\n",
      "Collecting parsedatetime>=2.1 (from agate)\n",
      "Collecting text-unidecode==1.2 (from python-slugify>=1.2.1->agate)\n",
      "  Using cached https://files.pythonhosted.org/packages/79/42/d717cc2b4520fb09e45b344b1b0b4e81aa672001dd128c180fabc655c341/text_unidecode-1.2-py2.py3-none-any.whl\n",
      "Requirement already satisfied: pytz>=2015.7 in /opt/conda/lib/python3.7/site-packages (from Babel>=2.0->agate) (2019.1)\n",
      "Collecting future (from parsedatetime>=2.1->agate)\n",
      "Installing collected packages: text-unidecode, python-slugify, isodate, pytimeparse, leather, Babel, future, parsedatetime, agate\n",
      "Successfully installed Babel-2.7.0 agate-1.6.1 future-0.17.1 isodate-0.6.0 leather-0.3.3 parsedatetime-2.4 python-slugify-3.0.2 pytimeparse-1.1.8 text-unidecode-1.2\n"
     ]
    }
   ],
   "source": [
    "! pip install agate"
   ]
  },
  {
   "cell_type": "code",
   "execution_count": 3,
   "metadata": {},
   "outputs": [],
   "source": [
    "import agate\n",
    "import os, csv, re"
   ]
  },
  {
   "cell_type": "markdown",
   "metadata": {},
   "source": [
    "# Temperature and crime\n",
    "\n",
    "Using weather data and crime data, can we find out whether there has historically been more crime on warmer days in St. Louis?\n",
    "\n",
    "We will load and filter crime data, load and filter weather data, put them together and generate a chart."
   ]
  },
  {
   "cell_type": "markdown",
   "metadata": {},
   "source": [
    "## Load the crime data\n",
    "\n",
    "I've previously downloaded monthly crime reports from the St. Louis Metropolitan Police Department website. I've trimmed them by crime code to just the ones we're interested in: UCR codes 10000 to 40000. Then I exported those into a .csv file.\n",
    "\n",
    "Here we're going to load them into a table in a data analysis library called agate."
   ]
  },
  {
   "cell_type": "code",
   "execution_count": 5,
   "metadata": {},
   "outputs": [],
   "source": [
    "violent_crimes = agate.Table.from_csv('violent_crimes.csv')"
   ]
  },
  {
   "cell_type": "markdown",
   "metadata": {},
   "source": [
    "Let's take a look at the table, ordered by date."
   ]
  },
  {
   "cell_type": "code",
   "execution_count": 6,
   "metadata": {},
   "outputs": [
    {
     "name": "stdout",
     "output_type": "stream",
     "text": [
      "|                Date | Count |  Crime | Description          |\n",
      "| ------------------- | ----- | ------ | -------------------- |\n",
      "| 2018-04-30 22:26:00 |     1 | 41,011 | AGG.ASSAULT-FIREA... |\n",
      "| 2018-04-30 22:26:00 |     1 | 41,011 | AGG.ASSAULT-FIREA... |\n",
      "| 2018-04-30 22:26:00 |     1 | 41,021 | AGG.ASSAULT-FIREA... |\n",
      "| 2018-04-30 22:26:00 |     1 | 41,021 | AGG.ASSAULT-FIREA... |\n",
      "| 2018-04-30 22:26:00 |     1 | 41,011 | AGG.ASSAULT-FIREA... |\n",
      "| 2018-04-30 20:33:00 |     1 | 38,411 | ROBBERY CARJACKIN... |\n",
      "| 2018-04-30 16:50:00 |     1 | 41,011 | AGG.ASSAULT-FIREA... |\n",
      "| 2018-04-30 16:00:00 |     1 | 41,021 | AGG.ASSAULT-FIREA... |\n",
      "| 2018-04-30 16:00:00 |     1 | 41,021 | AGG.ASSAULT-FIREA... |\n",
      "| 2018-04-30 15:22:00 |     1 | 36,211 | ROBBERY-COMMERCE ... |\n",
      "| 2018-04-30 14:14:00 |     1 | 41,011 | AGG.ASSAULT-FIREA... |\n",
      "| 2018-04-30 12:41:00 |     1 | 41,011 | AGG.ASSAULT-FIREA... |\n",
      "| 2018-04-29 23:41:00 |     1 | 31,112 | ROBBERY-HIGHWAY  ... |\n",
      "| 2018-04-29 21:00:00 |     1 | 21,000 | RAPE -- FORCIBLE     |\n",
      "| 2018-04-29 21:00:00 |     1 | 41,011 | AGG.ASSAULT-FIREA... |\n",
      "| 2018-04-29 20:30:00 |     1 | 32,111 | ROBBERY-RESIDENCE... |\n",
      "| 2018-04-29 20:00:00 |     1 | 10,000 | HOMICIDE             |\n",
      "| 2018-04-29 19:55:00 |     1 | 41,011 | AGG.ASSAULT-FIREA... |\n",
      "| 2018-04-29 19:55:00 |     1 | 41,011 | AGG.ASSAULT-FIREA... |\n",
      "| 2018-04-29 19:33:00 |     1 | 41,011 | AGG.ASSAULT-FIREA... |\n",
      "|                 ... |   ... |    ... | ...                  |\n",
      "\n",
      "There are 62,493 crimes in the dataset.\n"
     ]
    }
   ],
   "source": [
    "violent_crimes.order_by('Date', reverse=True).print_table()\n",
    "\n",
    "print('\\nThere are {:,} crimes in the dataset.'.format(violent_crimes.aggregate(agate.Sum('Count'))))"
   ]
  },
  {
   "cell_type": "markdown",
   "metadata": {},
   "source": [
    "We can see a couple interesting things here. One, there are dates from well before 2008, when the first files are from. This is because people have reported crimes that occurred in the past. Second, we can see that the \"Count\" column sometimes includes negative numbers. This is because sometimes reports are discovered to be unfounded or are re-classified.\n",
    "\n",
    "We've summed the \"Count\" column to get the total number of crimes in the entire set: 62,493."
   ]
  },
  {
   "cell_type": "markdown",
   "metadata": {},
   "source": [
    "In this analysis we're only interested in the date when the crime happened, not the time. So we'll create a new column with just the date."
   ]
  },
  {
   "cell_type": "code",
   "execution_count": 7,
   "metadata": {},
   "outputs": [
    {
     "name": "stdout",
     "output_type": "stream",
     "text": [
      "|                Date | Count |  Crime | Description          |  just_date |\n",
      "| ------------------- | ----- | ------ | -------------------- | ---------- |\n",
      "| 2018-01-14 20:00:00 |    -1 | 31,111 | ROBBERY-HIGHWAY  ... | 2018-01-14 |\n",
      "| 2018-02-11 17:00:00 |     1 | 21,000 | RAPE -- FORCIBLE     | 2018-02-11 |\n",
      "| 2018-03-04 20:00:00 |    -1 | 43,015 | ASSLT-AGGRAV-OTH-... | 2018-03-04 |\n",
      "| 2018-03-10 22:00:00 |     1 | 21,000 | RAPE -- FORCIBLE     | 2018-03-10 |\n",
      "| 2018-03-12 12:40:00 |     1 | 38,421 | ROBBERY CARJACKIN... | 2018-03-12 |\n",
      "| 2018-03-12 17:00:00 |     1 | 44,023 | AGG.ASSAULT-HNDS,... | 2018-03-12 |\n",
      "| 2018-03-14 10:57:00 |     1 | 41,015 | ASSLT-AGGRAV-FIRE... | 2018-03-14 |\n",
      "| 2018-03-15 21:30:00 |     1 | 38,311 | ROBBERY CARJACKIN... | 2018-03-15 |\n",
      "| 2018-03-16 17:00:00 |    -1 | 31,112 | ROBBERY-HIGHWAY  ... | 2018-03-16 |\n",
      "| 2018-03-17 01:00:00 |     1 | 23,000 | RAPE-ATTEMPT FORC... | 2018-03-17 |\n",
      "| 2018-03-17 23:00:00 |     1 | 10,000 | HOMICIDE             | 2018-03-17 |\n",
      "| 2018-03-19 03:50:00 |    -1 | 41,011 | AGG.ASSAULT-FIREA... | 2018-03-19 |\n",
      "| 2018-03-21 20:00:00 |     1 | 44,026 | ASLT-AGGRV-HND/FS... | 2018-03-21 |\n",
      "| 2018-03-23 12:00:00 |     1 | 43,015 | ASSLT-AGGRAV-OTH-... | 2018-03-23 |\n",
      "| 2018-03-24 13:00:00 |     1 | 32,421 | ROBBERY-RESIDENCE... | 2018-03-24 |\n",
      "| 2018-03-24 14:00:00 |     1 | 31,421 | ROBBERY-HIGHWAY  ... | 2018-03-24 |\n",
      "| 2018-03-24 21:40:00 |     1 | 41,014 | ASSLT-AGGRAV-FIRE... | 2018-03-24 |\n",
      "| 2018-03-25 08:00:00 |     1 | 21,000 | RAPE -- FORCIBLE     | 2018-03-25 |\n",
      "| 2018-03-26 19:54:00 |     1 | 23,000 | RAPE-ATTEMPT FORC... | 2018-03-26 |\n",
      "| 2018-03-28 18:15:00 |     1 | 10,000 | HOMICIDE             | 2018-03-28 |\n",
      "|                 ... |   ... |    ... | ...                  |        ... |\n"
     ]
    }
   ],
   "source": [
    "dates = violent_crimes.compute([\n",
    "    ('just_date', agate.Formula(agate.Date(), lambda row: row['Date'].date()))\n",
    "])\n",
    "    \n",
    "dates.print_table()"
   ]
  },
  {
   "cell_type": "markdown",
   "metadata": {},
   "source": [
    "And now we'll group the table by dates and add up the \"Count\" of all crimes on that date to get the total of how many crimes were reported that day. This is similar to running a PivotTable in Microsoft Excel."
   ]
  },
  {
   "cell_type": "code",
   "execution_count": 8,
   "metadata": {
    "scrolled": false
   },
   "outputs": [
    {
     "name": "stdout",
     "output_type": "stream",
     "text": [
      "|  just_date | Count |\n",
      "| ---------- | ----- |\n",
      "| 1900-01-01 |     1 |\n",
      "| 1967-06-21 |     1 |\n",
      "| 1971-05-01 |     1 |\n",
      "| 1973-07-01 |     1 |\n",
      "| 1974-04-08 |     1 |\n",
      "| 1976-05-06 |     1 |\n",
      "| 1976-08-01 |     1 |\n",
      "| 1977-01-01 |     1 |\n",
      "| 1977-08-14 |     1 |\n",
      "| 1980-10-21 |     1 |\n",
      "| 1981-09-12 |     0 |\n",
      "| 1982-12-15 |     1 |\n",
      "| 1983-10-01 |     1 |\n",
      "| 1984-01-01 |     1 |\n",
      "| 1984-02-07 |     1 |\n",
      "| 1984-07-01 |     2 |\n",
      "| 1985-12-01 |     1 |\n",
      "| 1988-07-16 |     0 |\n",
      "| 1988-09-19 |     1 |\n",
      "| 1989-09-26 |     1 |\n",
      "|        ... |   ... |\n"
     ]
    }
   ],
   "source": [
    "by_date = dates.group_by(\"just_date\")\n",
    "\n",
    "counts_by_date = by_date.aggregate([\n",
    "    ('Count', agate.Sum('Count')),\n",
    "\n",
    "])\n",
    "\n",
    "counts_by_date.order_by('just_date').print_table()"
   ]
  },
  {
   "cell_type": "markdown",
   "metadata": {},
   "source": [
    "Finally, let's trim the table to just the dates we're interested in: those after 2008."
   ]
  },
  {
   "cell_type": "code",
   "execution_count": 9,
   "metadata": {},
   "outputs": [
    {
     "name": "stdout",
     "output_type": "stream",
     "text": [
      "|  just_date | Count |\n",
      "| ---------- | ----- |\n",
      "| 2008-01-01 |    33 |\n",
      "| 2008-01-02 |     6 |\n",
      "| 2008-01-03 |    12 |\n",
      "| 2008-01-04 |    18 |\n",
      "| 2008-01-05 |    15 |\n",
      "| 2008-01-06 |    14 |\n",
      "| 2008-01-07 |    21 |\n",
      "| 2008-01-08 |    14 |\n",
      "| 2008-01-09 |    18 |\n",
      "| 2008-01-10 |     9 |\n",
      "| 2008-01-11 |     8 |\n",
      "| 2008-01-12 |    33 |\n",
      "| 2008-01-13 |    20 |\n",
      "| 2008-01-14 |    14 |\n",
      "| 2008-01-15 |    14 |\n",
      "| 2008-01-16 |    24 |\n",
      "| 2008-01-17 |    14 |\n",
      "| 2008-01-18 |    16 |\n",
      "| 2008-01-19 |    17 |\n",
      "| 2008-01-20 |    17 |\n",
      "|        ... |   ... |\n",
      "\n",
      "There are 62,232 crimes on 3,766 different dates, an average of 15.6 per day.\n"
     ]
    }
   ],
   "source": [
    "current_counts = counts_by_date.where(lambda row: row['just_date'].year >= 2008)\n",
    "\n",
    "current_counts.order_by(\"just_date\").print_table()\n",
    "\n",
    "print('\\nThere are {:,} crimes on {:,} different dates, an average of {:,} per day.'.format(\n",
    "    current_counts.aggregate(agate.Sum('Count')),\n",
    "    len(current_counts.rows),\n",
    "    round(current_counts.aggregate(agate.Sum('Count')) / len(counts_by_date.rows), 1),\n",
    "                                                             )\n",
    "     )"
   ]
  },
  {
   "cell_type": "markdown",
   "metadata": {},
   "source": [
    "## Load the weather data\n",
    "\n",
    "The NOAA only outputs files in 10-year chunks and we have slightly more than that. We need to load, trim and merge two files."
   ]
  },
  {
   "cell_type": "code",
   "execution_count": 10,
   "metadata": {},
   "outputs": [
    {
     "name": "stdout",
     "output_type": "stream",
     "text": [
      "|       DATE | TMAX |\n",
      "| ---------- | ---- |\n",
      "| 2008-01-01 |   29 |\n",
      "| 2008-01-02 |   23 |\n",
      "| 2008-01-03 |   34 |\n",
      "| 2008-01-04 |   45 |\n",
      "| 2008-01-05 |   58 |\n",
      "| 2008-01-06 |   73 |\n",
      "| 2008-01-07 |   73 |\n",
      "| 2008-01-08 |   66 |\n",
      "| 2008-01-09 |   45 |\n",
      "| 2008-01-10 |   46 |\n",
      "| 2008-01-11 |   44 |\n",
      "| 2008-01-12 |   54 |\n",
      "| 2008-01-13 |   35 |\n",
      "| 2008-01-14 |   36 |\n",
      "| 2008-01-15 |   36 |\n",
      "| 2008-01-16 |   46 |\n",
      "| 2008-01-17 |   39 |\n",
      "| 2008-01-18 |   43 |\n",
      "| 2008-01-19 |   19 |\n",
      "| 2008-01-20 |   22 |\n",
      "|        ... |  ... |\n",
      "\n",
      "There are 3,773 observations\n"
     ]
    }
   ],
   "source": [
    "weather_1 = agate.Table.from_csv('lambert_1.csv')\n",
    "\n",
    "weather_trim_1 = weather_1.select(['DATE','TMAX'])\n",
    "\n",
    "weather_2 = agate.Table.from_csv('lambert_2.csv')\n",
    "\n",
    "weather_trim_2 = weather_2.select(['DATE','TMAX'])\n",
    "\n",
    "weather = weather_trim_1.merge([weather_trim_1,weather_trim_2])\n",
    "\n",
    "weather.print_table()\n",
    "\n",
    "print('\\nThere are {:,} observations'.format(\n",
    "        len(weather.rows))\n",
    "     )"
   ]
  },
  {
   "cell_type": "code",
   "execution_count": 11,
   "metadata": {},
   "outputs": [
    {
     "name": "stdout",
     "output_type": "stream",
     "text": [
      "|       DATE | TMAX |\n",
      "| ---------- | ---- |\n",
      "| 2008-01-01 |   29 |\n",
      "| 2008-01-02 |   23 |\n",
      "| 2008-01-03 |   34 |\n",
      "| 2008-01-04 |   45 |\n",
      "| 2008-01-05 |   58 |\n",
      "|        ... |  ... |\n"
     ]
    }
   ],
   "source": [
    "# Added by Steve\n",
    "\n",
    "weather_trim_1.print_table(5)"
   ]
  },
  {
   "cell_type": "code",
   "execution_count": 12,
   "metadata": {},
   "outputs": [
    {
     "name": "stdout",
     "output_type": "stream",
     "text": [
      "|  just_date | Count |\n",
      "| ---------- | ----- |\n",
      "| 2018-01-14 |    28 |\n",
      "| 2018-02-11 |     7 |\n",
      "| 2018-03-04 |    -1 |\n",
      "| 2018-03-10 |    15 |\n",
      "| 2018-03-12 |     6 |\n",
      "|        ... |   ... |\n"
     ]
    }
   ],
   "source": [
    "# Added by Steve\n",
    "\n",
    "counts_by_date.print_table(5)"
   ]
  },
  {
   "cell_type": "code",
   "execution_count": 13,
   "metadata": {},
   "outputs": [
    {
     "name": "stdout",
     "output_type": "stream",
     "text": [
      "|       DATE | TMAX |\n",
      "| ---------- | ---- |\n",
      "| 2008-01-01 |   29 |\n",
      "| 2008-01-02 |   23 |\n",
      "| 2008-01-03 |   34 |\n",
      "| 2008-01-04 |   45 |\n",
      "| 2008-01-05 |   58 |\n",
      "|        ... |  ... |\n"
     ]
    }
   ],
   "source": [
    "# Added by Steve\n",
    "\n",
    "weather.print_table(5)"
   ]
  },
  {
   "cell_type": "markdown",
   "metadata": {},
   "source": [
    "## Join the tables\n",
    "\n",
    "Next we're going to combine the two tables, joining on the date column."
   ]
  },
  {
   "cell_type": "code",
   "execution_count": 14,
   "metadata": {},
   "outputs": [
    {
     "name": "stdout",
     "output_type": "stream",
     "text": [
      "|  just_date | Count | TMAX |\n",
      "| ---------- | ----- | ---- |\n",
      "| 2018-01-14 |    28 |   27 |\n",
      "| 2018-02-11 |     7 |   26 |\n",
      "| 2018-03-04 |    -1 |   60 |\n",
      "| 2018-03-10 |    15 |   53 |\n",
      "| 2018-03-12 |     6 |   47 |\n",
      "| 2018-03-14 |     1 |   57 |\n",
      "| 2018-03-15 |     1 |   69 |\n",
      "| 2018-03-16 |    -1 |   50 |\n",
      "| 2018-03-17 |     2 |   48 |\n",
      "| 2018-03-19 |    -1 |   48 |\n",
      "| 2018-03-21 |     3 |   51 |\n",
      "| 2018-03-23 |     3 |   52 |\n",
      "| 2018-03-24 |     6 |   43 |\n",
      "| 2018-03-25 |     4 |   50 |\n",
      "| 2018-03-26 |     1 |   55 |\n",
      "| 2018-03-28 |     0 |   50 |\n",
      "| 2018-03-29 |     2 |   49 |\n",
      "| 2018-03-30 |     1 |   57 |\n",
      "| 2015-04-01 |    16 |   78 |\n",
      "| 2017-04-01 |    18 |   60 |\n",
      "|        ... |   ... |  ... |\n",
      "\n",
      "There are 4,000 observations\n"
     ]
    }
   ],
   "source": [
    "joined = counts_by_date.join(weather,'just_date','DATE')\n",
    "\n",
    "joined.print_table()\n",
    "\n",
    "print('\\nThere are {:,} observations'.format(\n",
    "        len(joined.rows))\n",
    "     )"
   ]
  },
  {
   "cell_type": "markdown",
   "metadata": {},
   "source": [
    "## Create the groupings by temperature\n",
    "\n",
    "Here's where things get interesting. We want to group by the temperature, so we can see how many crimes were reported on 60-degree days, 61-degree days and so on. We also want to see whether these numbers differ by season.\n",
    "\n",
    "We're creating two separate tables grouped by temperature — one using the full year and one just March through August. Next we're calculating the average number of crimes reported per day on each temperature, how many total crimes were reported on days with each temperature and how many days had highs of that temperature. Then we're joining those tables back together.\n",
    "\n"
   ]
  },
  {
   "cell_type": "code",
   "execution_count": 15,
   "metadata": {
    "scrolled": false
   },
   "outputs": [
    {
     "name": "stdout",
     "output_type": "stream",
     "text": [
      "| tmax |     avg | crime_count | day_count |  ss_avg | ss_crime_count | ss_day_count |\n",
      "| ---- | ------- | ----------- | --------- | ------- | -------------- | ------------ |\n",
      "|  108 | 20.000… |          60 |         3 | 20.000… |             60 |            3 |\n",
      "|  107 | 14.500… |          29 |         2 | 14.500… |             29 |            2 |\n",
      "|  106 | 18.750… |          75 |         4 | 18.750… |             75 |            4 |\n",
      "|  105 | 17.333… |          52 |         3 | 17.333… |             52 |            3 |\n",
      "|  104 | 14.333… |          43 |         3 | 13.500… |             27 |            2 |\n",
      "|  103 | 16.667… |         100 |         6 | 16.667… |            100 |            6 |\n",
      "|  102 | 16.571… |         116 |         7 | 16.571… |            116 |            7 |\n",
      "|  101 | 17.222… |         155 |         9 | 18.286… |            128 |            7 |\n",
      "|  100 | 14.533… |         218 |        15 | 14.533… |            218 |           15 |\n",
      "|   99 | 21.625… |         346 |        16 | 21.733… |            326 |           15 |\n",
      "|   98 | 16.963… |         458 |        27 | 17.160… |            429 |           25 |\n",
      "|   97 | 18.077… |         470 |        26 | 18.391… |            423 |           23 |\n",
      "|   96 | 19.324… |         657 |        34 | 18.968… |            588 |           31 |\n",
      "|   95 | 16.730… |         619 |        37 | 16.382… |            557 |           34 |\n",
      "|   94 | 18.898… |         926 |        49 | 18.841… |            829 |           44 |\n",
      "|   93 | 18.826… |       1,299 |        69 | 19.302… |          1,216 |           63 |\n",
      "|   92 | 17.614… |       1,233 |        70 | 17.508… |          1,033 |           59 |\n",
      "|   91 | 17.833… |       1,177 |        66 | 17.737… |          1,011 |           57 |\n",
      "|   90 | 20.224… |       1,355 |        67 | 19.729… |          1,164 |           59 |\n",
      "|   89 | 18.742… |       1,162 |        62 | 18.962… |            986 |           52 |\n",
      "|  ... |     ... |         ... |       ... |     ... |            ... |          ... |\n",
      "\n",
      "There are 100 different temperatures accounted for. There are 62,232 total crimes, 33,460 (53.8% of the total) in the spring/summer months.        \n",
      "There are 3,766 total days, 1,894 of them in the spring/summer.\n"
     ]
    }
   ],
   "source": [
    "# Create the grouped table of all dates\n",
    "all_by_tmax = joined.group_by('TMAX')\n",
    "\n",
    "# Create the grouped table of only Spring/Summer dates\n",
    "ss_by_tmax = joined.where(lambda row: row['just_date'].month in [3,4,5,6,7,8]).group_by('TMAX')\n",
    "\n",
    "# Calculate the new fields for each table\n",
    "avg_by_tmax = all_by_tmax.aggregate([\n",
    "    ('avg', agate.Mean('Count')),\n",
    "    ('crime_count', agate.Sum('Count')),\n",
    "    ('day_count', agate.Count())\n",
    "])\n",
    "\n",
    "ss_avg_by_tmax = ss_by_tmax.aggregate([\n",
    "    ('ss_avg', agate.Mean('Count')),\n",
    "    ('ss_crime_count', agate.Sum('Count')),\n",
    "    ('ss_day_count', agate.Count())\n",
    "])\n",
    "\n",
    "# Join the two tables back together again\n",
    "crimes_by_temp = avg_by_tmax.join(ss_avg_by_tmax,'TMAX').rename(column_names = {'TMAX':'tmax'}).where(lambda row: row['tmax'] is not None)\n",
    "\n",
    "crimes_by_temp.order_by('tmax', reverse=True).print_table(max_columns=None)\n",
    "\n",
    "print(\"\\nThere are {:,} different temperatures accounted for. There are {:,} total crimes, {:,} ({:.1%} of the total) in the spring/summer months.\\\n",
    "        \\nThere are {:,} total days, {:,} of them in the spring/summer.\".format(\n",
    "    len(crimes_by_temp.rows),\n",
    "    crimes_by_temp.aggregate(agate.Sum('crime_count')),\n",
    "    crimes_by_temp.aggregate(agate.Sum('ss_crime_count')),\n",
    "    crimes_by_temp.aggregate(agate.Sum('ss_crime_count')) / crimes_by_temp.aggregate(agate.Sum('crime_count')),\n",
    "    crimes_by_temp.aggregate(agate.Sum('day_count')),\n",
    "    crimes_by_temp.aggregate(agate.Sum('ss_day_count')),\n",
    "        )\n",
    "     )"
   ]
  },
  {
   "cell_type": "code",
   "execution_count": 16,
   "metadata": {},
   "outputs": [
    {
     "data": {
      "text/plain": [
       "<agate.table.Table at 0x7ff244784e48>"
      ]
     },
     "execution_count": 16,
     "metadata": {},
     "output_type": "execute_result"
    }
   ],
   "source": [
    "## Added by Steve\n",
    "ss_avg_by_tmax"
   ]
  },
  {
   "cell_type": "markdown",
   "metadata": {},
   "source": [
    "Next we can create a scatterplot to look at the average number of crimes reported in the spring and summer, by temperature."
   ]
  },
  {
   "cell_type": "code",
   "execution_count": 17,
   "metadata": {},
   "outputs": [
    {
     "data": {
      "image/svg+xml": [
       "<svg height=\"600\" version=\"1.1\" width=\"800\" xmlns=\"http://www.w3.org/2000/svg\"><g><rect fill=\"#f9f9f9\" height=\"600\" width=\"800\" x=\"0\" y=\"0\"/><g transform=\"translate(40 40)\"><g transform=\"translate(54 0)\"/><g transform=\"translate(0 0)\"><g transform=\"translate(54 0)\"><g class=\"axis bottom\"><text dy=\"1em\" fill=\"#666\" font-family=\"Monaco\" text-anchor=\"middle\" transform=\"\" x=\"333.0\" y=\"506.0\">tmax</text><g class=\"tick\"><line stroke=\"#eee\" stroke-width=\"1\" x1=\"133.2\" x2=\"133.2\" y1=\"0\" y2=\"472.0\"/><text dy=\"1em\" fill=\"#9c9c9c\" font-family=\"Monaco\" text-anchor=\"middle\" x=\"133.2\" y=\"476.0\">25</text></g><g class=\"tick\"><line stroke=\"#eee\" stroke-width=\"1\" x1=\"266.4\" x2=\"266.4\" y1=\"0\" y2=\"472.0\"/><text dy=\"1em\" fill=\"#9c9c9c\" font-family=\"Monaco\" text-anchor=\"middle\" x=\"266.4\" y=\"476.0\">50</text></g><g class=\"tick\"><line stroke=\"#eee\" stroke-width=\"1\" x1=\"399.6\" x2=\"399.6\" y1=\"0\" y2=\"472.0\"/><text dy=\"1em\" fill=\"#9c9c9c\" font-family=\"Monaco\" text-anchor=\"middle\" x=\"399.6\" y=\"476.0\">75</text></g><g class=\"tick\"><line stroke=\"#eee\" stroke-width=\"1\" x1=\"532.8\" x2=\"532.8\" y1=\"0\" y2=\"472.0\"/><text dy=\"1em\" fill=\"#9c9c9c\" font-family=\"Monaco\" text-anchor=\"middle\" x=\"532.8\" y=\"476.0\">100</text></g><g class=\"tick\"><line stroke=\"#eee\" stroke-width=\"1\" x1=\"666\" x2=\"666\" y1=\"0\" y2=\"472.0\"/><text dy=\"1em\" fill=\"#9c9c9c\" font-family=\"Monaco\" text-anchor=\"middle\" x=\"666\" y=\"476.0\">125</text></g><g class=\"tick\"><line stroke=\"#a8a8a8\" stroke-width=\"1\" x1=\"0\" x2=\"0\" y1=\"0\" y2=\"472.0\"/><text dy=\"1em\" fill=\"#9c9c9c\" font-family=\"Monaco\" text-anchor=\"middle\" x=\"0\" y=\"476.0\">0</text></g></g><g class=\"axis left\"><text dy=\"\" fill=\"#666\" font-family=\"Monaco\" text-anchor=\"middle\" transform=\"rotate(270 -32 234)\" x=\"-32\" y=\"234.0\">ss_avg</text><g class=\"tick\"><line stroke=\"#eee\" stroke-width=\"1\" x1=\"-4\" x2=\"666.0\" y1=\"374.4\" y2=\"374.4\"/><text dy=\"0.32em\" fill=\"#9c9c9c\" font-family=\"Monaco\" text-anchor=\"end\" x=\"-8\" y=\"374.4\">5</text></g><g class=\"tick\"><line stroke=\"#eee\" stroke-width=\"1\" x1=\"-4\" x2=\"666.0\" y1=\"280.8\" y2=\"280.8\"/><text dy=\"0.32em\" fill=\"#9c9c9c\" font-family=\"Monaco\" text-anchor=\"end\" x=\"-8\" y=\"280.8\">10</text></g><g class=\"tick\"><line stroke=\"#eee\" stroke-width=\"1\" x1=\"-4\" x2=\"666.0\" y1=\"187.2\" y2=\"187.2\"/><text dy=\"0.32em\" fill=\"#9c9c9c\" font-family=\"Monaco\" text-anchor=\"end\" x=\"-8\" y=\"187.2\">15</text></g><g class=\"tick\"><line stroke=\"#eee\" stroke-width=\"1\" x1=\"-4\" x2=\"666.0\" y1=\"93.6\" y2=\"93.6\"/><text dy=\"0.32em\" fill=\"#9c9c9c\" font-family=\"Monaco\" text-anchor=\"end\" x=\"-8\" y=\"93.6\">20</text></g><g class=\"tick\"><line stroke=\"#eee\" stroke-width=\"1\" x1=\"-4\" x2=\"666.0\" y1=\"0\" y2=\"0\"/><text dy=\"0.32em\" fill=\"#9c9c9c\" font-family=\"Monaco\" text-anchor=\"end\" x=\"-8\" y=\"0\">25</text></g><g class=\"tick\"><line stroke=\"#a8a8a8\" stroke-width=\"1\" x1=\"-4\" x2=\"666.0\" y1=\"468\" y2=\"468\"/><text dy=\"0.32em\" fill=\"#9c9c9c\" font-family=\"Monaco\" text-anchor=\"end\" x=\"-8\" y=\"468\">0</text></g></g><g><g class=\"series dots\"><circle cx=\"138.528\" cy=\"299.52\" fill=\"#e41a1c\" r=\"3\"/><circle cx=\"319.68\" cy=\"189.4464\" fill=\"#e41a1c\" r=\"3\"/><circle cx=\"282.384\" cy=\"275.4514285714285714285714285\" fill=\"#e41a1c\" r=\"3\"/><circle cx=\"250.416\" cy=\"231.660\" fill=\"#e41a1c\" r=\"3\"/><circle cx=\"303.696\" cy=\"227.448\" fill=\"#e41a1c\" r=\"3\"/><circle cx=\"367.632\" cy=\"162.4412903225806451612903226\" fill=\"#e41a1c\" r=\"3\"/><circle cx=\"266.4\" cy=\"219.5345454545454545454545455\" fill=\"#e41a1c\" r=\"3\"/><circle cx=\"255.744\" cy=\"238.9552941176470588235294119\" fill=\"#e41a1c\" r=\"3\"/><circle cx=\"271.728\" cy=\"221.1300\" fill=\"#e41a1c\" r=\"3\"/><circle cx=\"277.056\" cy=\"203.2457142857142857142857143\" fill=\"#e41a1c\" r=\"3\"/><circle cx=\"229.104\" cy=\"230.256\" fill=\"#e41a1c\" r=\"3\"/><circle cx=\"293.04\" cy=\"241.020\" fill=\"#e41a1c\" r=\"3\"/><circle cx=\"261.072\" cy=\"257.9200000000000000000000000\" fill=\"#e41a1c\" r=\"3\"/><circle cx=\"415.584\" cy=\"94.8910344827586206896551725\" fill=\"#e41a1c\" r=\"3\"/><circle cx=\"207.792\" cy=\"262.08\" fill=\"#e41a1c\" r=\"3\"/><circle cx=\"223.776\" cy=\"336.96\" fill=\"#e41a1c\" r=\"3\"/><circle cx=\"388.944\" cy=\"101.088\" fill=\"#e41a1c\" r=\"3\"/><circle cx=\"340.992\" cy=\"158.5694117647058823529411765\" fill=\"#e41a1c\" r=\"3\"/><circle cx=\"234.432\" cy=\"154.44\" fill=\"#e41a1c\" r=\"3\"/><circle cx=\"410.256\" cy=\"153.7010526315789473684210527\" fill=\"#e41a1c\" r=\"3\"/><circle cx=\"452.88\" cy=\"119.2168421052631578947368421\" fill=\"#e41a1c\" r=\"3\"/><circle cx=\"420.912\" cy=\"120.3428571428571428571428572\" fill=\"#e41a1c\" r=\"3\"/><circle cx=\"298.368\" cy=\"170.5600000000000000000000000\" fill=\"#e41a1c\" r=\"3\"/><circle cx=\"330.336\" cy=\"123.0171428571428571428571428\" fill=\"#e41a1c\" r=\"3\"/><circle cx=\"356.976\" cy=\"146.9866666666666666666666666\" fill=\"#e41a1c\" r=\"3\"/><circle cx=\"325.008\" cy=\"150.5739130434782608695652174\" fill=\"#e41a1c\" r=\"3\"/><circle cx=\"383.616\" cy=\"131.7600000000000000000000000\" fill=\"#e41a1c\" r=\"3\"/><circle cx=\"351.648\" cy=\"115.7866666666666666666666668\" fill=\"#e41a1c\" r=\"3\"/><circle cx=\"335.664\" cy=\"151.632\" fill=\"#e41a1c\" r=\"3\"/><circle cx=\"346.32\" cy=\"110.2400000000000000000000000\" fill=\"#e41a1c\" r=\"3\"/><circle cx=\"426.24\" cy=\"101.3082352941176470588235294\" fill=\"#e41a1c\" r=\"3\"/><circle cx=\"431.568\" cy=\"156.6933333333333333333333333\" fill=\"#e41a1c\" r=\"3\"/><circle cx=\"516.816\" cy=\"123.7147826086956521739130435\" fill=\"#e41a1c\" r=\"3\"/><circle cx=\"484.848\" cy=\"135.9663157894736842105263157\" fill=\"#e41a1c\" r=\"3\"/><circle cx=\"436.896\" cy=\"92.6941935483870967741935485\" fill=\"#e41a1c\" r=\"3\"/><circle cx=\"490.176\" cy=\"140.2413559322033898305084746\" fill=\"#e41a1c\" r=\"3\"/><circle cx=\"287.712\" cy=\"218.4000000000000000000000001\" fill=\"#e41a1c\" r=\"3\"/><circle cx=\"191.808\" cy=\"191.88\" fill=\"#e41a1c\" r=\"3\"/><circle cx=\"218.448\" cy=\"205.92\" fill=\"#e41a1c\" r=\"3\"/><circle cx=\"239.76\" cy=\"260.0000000000000000000000000\" fill=\"#e41a1c\" r=\"3\"/><circle cx=\"197.136\" cy=\"199.6800000000000000000000001\" fill=\"#e41a1c\" r=\"3\"/><circle cx=\"202.464\" cy=\"308.88\" fill=\"#e41a1c\" r=\"3\"/><circle cx=\"314.352\" cy=\"165.0763636363636363636363637\" fill=\"#e41a1c\" r=\"3\"/><circle cx=\"245.088\" cy=\"259.740\" fill=\"#e41a1c\" r=\"3\"/><circle cx=\"181.152\" cy=\"224.64\" fill=\"#e41a1c\" r=\"3\"/><circle cx=\"362.304\" cy=\"107.64\" fill=\"#e41a1c\" r=\"3\"/><circle cx=\"394.272\" cy=\"118.0173913043478260869565216\" fill=\"#e41a1c\" r=\"3\"/><circle cx=\"309.024\" cy=\"157.8991304347826086956521739\" fill=\"#e41a1c\" r=\"3\"/><circle cx=\"186.48\" cy=\"290.16\" fill=\"#e41a1c\" r=\"3\"/><circle cx=\"133.2\" cy=\"393.12\" fill=\"#e41a1c\" r=\"3\"/><circle cx=\"468.864\" cy=\"110.8224\" fill=\"#e41a1c\" r=\"3\"/><circle cx=\"447.552\" cy=\"76.7213114754098360655737706\" fill=\"#e41a1c\" r=\"3\"/><circle cx=\"543.456\" cy=\"157.7828571428571428571428572\" fill=\"#e41a1c\" r=\"3\"/><circle cx=\"442.224\" cy=\"121.1740540540540540540540540\" fill=\"#e41a1c\" r=\"3\"/><circle cx=\"399.6\" cy=\"118.8000000000000000000000001\" fill=\"#e41a1c\" r=\"3\"/><circle cx=\"378.288\" cy=\"160.2211764705882352941176470\" fill=\"#e41a1c\" r=\"3\"/><circle cx=\"372.96\" cy=\"155.6715789473684210526315789\" fill=\"#e41a1c\" r=\"3\"/><circle cx=\"213.12\" cy=\"321.984\" fill=\"#e41a1c\" r=\"3\"/><circle cx=\"127.872\" cy=\"355.68\" fill=\"#e41a1c\" r=\"3\"/><circle cx=\"170.496\" cy=\"268.3199999999999999999999999\" fill=\"#e41a1c\" r=\"3\"/><circle cx=\"463.536\" cy=\"118.1700\" fill=\"#e41a1c\" r=\"3\"/><circle cx=\"522.144\" cy=\"146.7648\" fill=\"#e41a1c\" r=\"3\"/><circle cx=\"479.52\" cy=\"98.6766101694915254237288135\" fill=\"#e41a1c\" r=\"3\"/><circle cx=\"511.488\" cy=\"112.9238709677419354838709678\" fill=\"#e41a1c\" r=\"3\"/><circle cx=\"554.112\" cy=\"215.28\" fill=\"#e41a1c\" r=\"3\"/><circle cx=\"495.504\" cy=\"106.6742857142857142857142857\" fill=\"#e41a1c\" r=\"3\"/><circle cx=\"404.928\" cy=\"141.4400000000000000000000001\" fill=\"#e41a1c\" r=\"3\"/><circle cx=\"474.192\" cy=\"113.0400000000000000000000000\" fill=\"#e41a1c\" r=\"3\"/><circle cx=\"506.16\" cy=\"161.3223529411764705882352941\" fill=\"#e41a1c\" r=\"3\"/><circle cx=\"458.208\" cy=\"94.6596226415094339622641509\" fill=\"#e41a1c\" r=\"3\"/><circle cx=\"500.832\" cy=\"115.2981818181818181818181818\" fill=\"#e41a1c\" r=\"3\"/><circle cx=\"532.8\" cy=\"195.9360000000000000000000001\" fill=\"#e41a1c\" r=\"3\"/><circle cx=\"538.128\" cy=\"125.6914285714285714285714285\" fill=\"#e41a1c\" r=\"3\"/><circle cx=\"548.784\" cy=\"155.9999999999999999999999999\" fill=\"#e41a1c\" r=\"3\"/><circle cx=\"527.472\" cy=\"61.1520000000000000000000001\" fill=\"#e41a1c\" r=\"3\"/><circle cx=\"575.424\" cy=\"93.6\" fill=\"#e41a1c\" r=\"3\"/><circle cx=\"175.824\" cy=\"168.48\" fill=\"#e41a1c\" r=\"3\"/><circle cx=\"564.768\" cy=\"117.00\" fill=\"#e41a1c\" r=\"3\"/><circle cx=\"559.44\" cy=\"143.5200000000000000000000001\" fill=\"#e41a1c\" r=\"3\"/><circle cx=\"570.096\" cy=\"196.56\" fill=\"#e41a1c\" r=\"3\"/></g></g></g></g></g></g></svg>"
      ],
      "text/plain": [
       "<IPython.core.display.SVG object>"
      ]
     },
     "execution_count": 17,
     "metadata": {},
     "output_type": "execute_result"
    }
   ],
   "source": [
    "crimes_by_temp.scatterplot('tmax','ss_avg')"
   ]
  }
 ],
 "metadata": {
  "kernelspec": {
   "display_name": "Python 3",
   "language": "python",
   "name": "python3"
  },
  "language_info": {
   "codemirror_mode": {
    "name": "ipython",
    "version": 3
   },
   "file_extension": ".py",
   "mimetype": "text/x-python",
   "name": "python",
   "nbconvert_exporter": "python",
   "pygments_lexer": "ipython3",
   "version": "3.7.3"
  }
 },
 "nbformat": 4,
 "nbformat_minor": 2
}
